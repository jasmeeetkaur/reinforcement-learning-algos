{
 "cells": [
  {
   "cell_type": "code",
   "execution_count": 1,
   "id": "c59e34be",
   "metadata": {},
   "outputs": [
    {
     "name": "stdout",
     "output_type": "stream",
     "text": [
      "Collecting cmake\n",
      "  Downloading cmake-3.20.2-py2.py3-none-manylinux1_x86_64.whl (19.4 MB)\n",
      "\u001b[K     |████████████████████████████████| 19.4 MB 8.1 MB/s eta 0:00:01\n",
      "\u001b[?25hCollecting gym[atari]\n",
      "  Downloading gym-0.18.3.tar.gz (1.6 MB)\n",
      "\u001b[K     |████████████████████████████████| 1.6 MB 32.3 MB/s eta 0:00:01\n",
      "\u001b[?25hRequirement already satisfied: scipy in ./anaconda3/envs/img-seg-py3.8/lib/python3.8/site-packages (1.6.2)\n",
      "Requirement already satisfied: numpy>=1.10.4 in ./anaconda3/envs/img-seg-py3.8/lib/python3.8/site-packages (from gym[atari]) (1.19.5)\n",
      "Collecting pyglet<=1.5.15,>=1.4.0\n",
      "  Downloading pyglet-1.5.15-py3-none-any.whl (1.1 MB)\n",
      "\u001b[K     |████████████████████████████████| 1.1 MB 32.6 MB/s eta 0:00:01\n",
      "\u001b[?25hRequirement already satisfied: Pillow<=8.2.0 in ./anaconda3/envs/img-seg-py3.8/lib/python3.8/site-packages (from gym[atari]) (8.2.0)\n",
      "Requirement already satisfied: cloudpickle<1.7.0,>=1.2.0 in ./anaconda3/envs/img-seg-py3.8/lib/python3.8/site-packages (from gym[atari]) (1.6.0)\n",
      "Collecting atari_py~=0.2.0\n",
      "  Downloading atari_py-0.2.9-cp38-cp38-manylinux_2_17_x86_64.manylinux2014_x86_64.whl (2.8 MB)\n",
      "\u001b[K     |████████████████████████████████| 2.8 MB 51.9 MB/s eta 0:00:01\n",
      "\u001b[?25hRequirement already satisfied: opencv-python>=3. in ./anaconda3/envs/img-seg-py3.8/lib/python3.8/site-packages (from gym[atari]) (4.5.2.52)\n",
      "Requirement already satisfied: six in ./anaconda3/envs/img-seg-py3.8/lib/python3.8/site-packages (from atari_py~=0.2.0->gym[atari]) (1.15.0)\n",
      "Building wheels for collected packages: gym\n",
      "  Building wheel for gym (setup.py) ... \u001b[?25ldone\n",
      "\u001b[?25h  Created wheel for gym: filename=gym-0.18.3-py3-none-any.whl size=1657518 sha256=b86cd68b48c929a3c3fb67dfff64a0e289a6ae5d876561be49cf6f90b26a97b9\n",
      "  Stored in directory: /home/jasmeet/.cache/pip/wheels/b3/03/54/9141c232861b89be935b37bdde0ea5ab472f5e18fc20623aed\n",
      "Successfully built gym\n",
      "Installing collected packages: pyglet, gym, atari-py, cmake\n",
      "Successfully installed atari-py-0.2.9 cmake-3.20.2 gym-0.18.3 pyglet-1.5.15\n"
     ]
    }
   ],
   "source": [
    "!pip install cmake 'gym[atari]' scipy"
   ]
  },
  {
   "cell_type": "code",
   "execution_count": 3,
   "id": "8d1d8efc",
   "metadata": {},
   "outputs": [
    {
     "name": "stdout",
     "output_type": "stream",
     "text": [
      "+---------+\n",
      "|R: |\u001b[43m \u001b[0m: :G|\n",
      "| : | : : |\n",
      "| : : : : |\n",
      "| | : | : |\n",
      "|\u001b[34;1mY\u001b[0m| : |\u001b[35mB\u001b[0m: |\n",
      "+---------+\n",
      "\n"
     ]
    }
   ],
   "source": [
    "import gym \n",
    "env = gym.make(\"Taxi-v3\").env\n",
    "env.render()"
   ]
  },
  {
   "cell_type": "code",
   "execution_count": 4,
   "id": "5b212f85",
   "metadata": {},
   "outputs": [
    {
     "name": "stdout",
     "output_type": "stream",
     "text": [
      "+---------+\n",
      "|\u001b[34;1mR\u001b[0m: | : :\u001b[35mG\u001b[0m|\n",
      "| : | : : |\n",
      "|\u001b[43m \u001b[0m: : : : |\n",
      "| | : | : |\n",
      "|Y| : |B: |\n",
      "+---------+\n",
      "\n"
     ]
    }
   ],
   "source": [
    "env.reset()\n",
    "env.render()"
   ]
  },
  {
   "cell_type": "code",
   "execution_count": 5,
   "id": "dab34738",
   "metadata": {},
   "outputs": [
    {
     "name": "stdout",
     "output_type": "stream",
     "text": [
      "Action Space Discrete(6)\n",
      "State space Discrete(500)\n"
     ]
    }
   ],
   "source": [
    "print(\"Action Space {}\".format(env.action_space))\n",
    "print(\"State space {}\".format(env.observation_space))"
   ]
  },
  {
   "cell_type": "code",
   "execution_count": 6,
   "id": "71112d65",
   "metadata": {},
   "outputs": [
    {
     "name": "stdout",
     "output_type": "stream",
     "text": [
      "State: 328\n",
      "+---------+\n",
      "|\u001b[35mR\u001b[0m: | : :G|\n",
      "| : | : : |\n",
      "| : : : : |\n",
      "| |\u001b[43m \u001b[0m: | : |\n",
      "|\u001b[34;1mY\u001b[0m| : |B: |\n",
      "+---------+\n",
      "\n"
     ]
    }
   ],
   "source": [
    "state = env.encode(3,1,2,0)\n",
    "print(\"State:\",state)\n",
    "env.s = state\n",
    "env.render()"
   ]
  },
  {
   "cell_type": "code",
   "execution_count": 10,
   "id": "69e8abd3",
   "metadata": {},
   "outputs": [
    {
     "name": "stdout",
     "output_type": "stream",
     "text": [
      "Timesteps taken : 784\n",
      "Penalties incured : 238\n"
     ]
    }
   ],
   "source": [
    "env.s = 328\n",
    "epochs = 0\n",
    "penalties, reward = 0,0\n",
    "frames = []\n",
    "done = False\n",
    "while not done:\n",
    "    action = env.action_space.sample()\n",
    "    state, reward, done, info = env.step(action)\n",
    "    if reward == -10:\n",
    "        penalties +=1\n",
    "    \n",
    "    frames.append({\n",
    "        'frame':env.render(mode='ansi'),\n",
    "        'state': state,\n",
    "        'action': action,\n",
    "        'reward' :reward\n",
    "    })\n",
    "    epochs+=1\n",
    "    \n",
    "\n",
    "print(\"Timesteps taken : {}\".format(epochs))\n",
    "print(\"Penalties incured : {}\".format(penalties))"
   ]
  },
  {
   "cell_type": "code",
   "execution_count": null,
   "id": "72a4e284",
   "metadata": {},
   "outputs": [],
   "source": [
    "#implementing q-learning algorithm"
   ]
  },
  {
   "cell_type": "code",
   "execution_count": 13,
   "id": "4d0a205b",
   "metadata": {},
   "outputs": [
    {
     "name": "stdout",
     "output_type": "stream",
     "text": [
      "Episode : 100000\n",
      "Training finished.\n",
      "\n"
     ]
    }
   ],
   "source": [
    "import numpy as np\n",
    "q_table = np.zeros([env.observation_space.n,env.action_space.n])\n",
    "import random\n",
    "from IPython.display import clear_output\n",
    "\n",
    "alpha = 0.1\n",
    "gamma = 0.6\n",
    "epsilon = 0.1\n",
    "\n",
    "all_epochs = []\n",
    "all_penalties = []\n",
    "\n",
    "for i in range(1,100001):\n",
    "    state = env.reset()\n",
    "    epochs, penalties, reward = 0, 0 , 0 \n",
    "    done = False\n",
    "    \n",
    "    while not done:\n",
    "        if random.uniform(0,1) < epsilon:\n",
    "            action = env.action_space.sample()\n",
    "        else:\n",
    "            action = np.argmax(q_table[state])\n",
    "        \n",
    "        next_state, reward, done, info = env.step(action)\n",
    "        \n",
    "        old_value = q_table[state, action]\n",
    "        next_max = np.max(q_table[next_state])\n",
    "        \n",
    "        new_value = (1-alpha)*old_value + alpha * (reward + gamma * next_max)\n",
    "        q_table[state, action] = new_value\n",
    "        \n",
    "        if reward == -10:\n",
    "            penalties += 1\n",
    "            \n",
    "        state = next_state\n",
    "        epochs += 1\n",
    "        \n",
    "    if i%100 == 0:\n",
    "        clear_output(wait = True)\n",
    "        print(f\"Episode : {i}\")\n",
    "\n",
    "print(\"Training finished.\\n\")\n"
   ]
  },
  {
   "cell_type": "code",
   "execution_count": 14,
   "id": "dc5516d0",
   "metadata": {},
   "outputs": [
    {
     "data": {
      "text/plain": [
       "array([ -2.40502308,  -2.27325184,  -2.40054472,  -2.35253022,\n",
       "       -10.32959591, -10.95656084])"
      ]
     },
     "execution_count": 14,
     "metadata": {},
     "output_type": "execute_result"
    }
   ],
   "source": [
    "q_table[328]"
   ]
  },
  {
   "cell_type": "code",
   "execution_count": null,
   "id": "cf4204e4",
   "metadata": {},
   "outputs": [],
   "source": [
    "#Evaluate agent's performance after Q-learning"
   ]
  },
  {
   "cell_type": "code",
   "execution_count": 15,
   "id": "bc458649",
   "metadata": {},
   "outputs": [
    {
     "name": "stdout",
     "output_type": "stream",
     "text": [
      "Results after 100 episodes:\n",
      "Average timesteps per episode : 12.77\n",
      "Average penalties per episode : 0.0\n"
     ]
    }
   ],
   "source": [
    "total_epochs, total_penalties = 0,0\n",
    "episodes = 100\n",
    "\n",
    "for i in range(episodes):\n",
    "    state = env.reset()\n",
    "    epochs, penalties, reward = 0, 0, 0\n",
    "    \n",
    "    done = False\n",
    "    \n",
    "    while not done:\n",
    "        action = np.argmax(q_table[state])\n",
    "        state, reward, done, info = env.step(action)\n",
    "        \n",
    "        if reward == -10:\n",
    "            penalties += 1\n",
    "            \n",
    "        epochs +=1\n",
    "        \n",
    "    total_penalties+= penalties\n",
    "    total_epochs += epochs\n",
    "    \n",
    "print(f\"Results after {episodes} episodes:\")\n",
    "print(f\"Average timesteps per episode : {total_epochs/episodes}\")\n",
    "print(f\"Average penalties per episode : {total_penalties/episodes}\")"
   ]
  },
  {
   "cell_type": "code",
   "execution_count": null,
   "id": "dea96449",
   "metadata": {},
   "outputs": [],
   "source": []
  }
 ],
 "metadata": {
  "kernelspec": {
   "display_name": "Python 3",
   "language": "python",
   "name": "python3"
  },
  "language_info": {
   "codemirror_mode": {
    "name": "ipython",
    "version": 3
   },
   "file_extension": ".py",
   "mimetype": "text/x-python",
   "name": "python",
   "nbconvert_exporter": "python",
   "pygments_lexer": "ipython3",
   "version": "3.8.8"
  }
 },
 "nbformat": 4,
 "nbformat_minor": 5
}
